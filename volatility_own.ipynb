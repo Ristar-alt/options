{
 "cells": [
  {
   "cell_type": "code",
   "execution_count": 2,
   "id": "b5ee0fe1-cb88-46a9-aee6-22c2a79ed356",
   "metadata": {
    "ExecuteTime": {
     "end_time": "2023-12-29T09:30:21.438251900Z",
     "start_time": "2023-12-29T09:30:20.223886600Z"
    }
   },
   "outputs": [],
   "source": [
    "import pandas as pd\n",
    "import numpy as np\n",
    "import tushare as ts\n",
    "import datetime\n",
    "import matplotlib.pyplot as plt"
   ]
  },
  {
   "cell_type": "code",
   "execution_count": 3,
   "id": "5656d7b7-1fb6-449e-8f5f-37709beec083",
   "metadata": {
    "ExecuteTime": {
     "end_time": "2023-12-29T09:30:21.447776800Z",
     "start_time": "2023-12-29T09:30:21.439431100Z"
    }
   },
   "outputs": [],
   "source": [
    "token=\"818670fa68bc204c217143cdb75efeae1986031841ff8ca2c6a855bd\"\n",
    "ts.set_token(token)\n",
    "pro = ts.pro_api()\n",
    "\n",
    "# stock_prices = pro.index_daily(ts_code='399300.SZ', start_date='20180101', end_date='20181010')\n",
    "# stock_prices['c2c'] = pd.Series(np.nan, index=stock_prices.index)\n",
    "# print(stock_prices)"
   ]
  },
  {
   "cell_type": "code",
   "execution_count": 8,
   "id": "56310add-cac2-4b16-85b0-8c655aace16c",
   "metadata": {
    "ExecuteTime": {
     "end_time": "2023-12-29T09:36:38.518373600Z",
     "start_time": "2023-12-29T09:36:38.362783800Z"
    }
   },
   "outputs": [
    {
     "name": "stdout",
     "output_type": "stream",
     "text": [
      "最新值如下\n",
      "0.17106572505708237\n",
      "      ts_code trade_date      close       open       high        low  \\\n",
      "79  000852.SH 2023-10-30  6006.5591  5899.3795  6017.2814  5898.6942   \n",
      "\n",
      "    pre_close   change  pct_chg          vol        amount  close_to_close  \n",
      "79  5916.6783  89.8808   1.5191  179281052.0  2.196281e+08        0.171066  \n"
     ]
    }
   ],
   "source": [
    "stock_code='000852.SH' #沪深300 '000300.SH'   中证500  '000905.SH'   中证1000 '000852.SH'\n",
    "\n",
    "start_date='20231030'\n",
    "end_date='20231030'\n",
    "rolling_window = 60\n",
    "vol_types=[\"close_to_close\"]\n",
    "# vol_types=[\"close_to_close\", \"parkinson\", \"garman_klass\", \"roger_satchell\", \"yang_zhang\"]\n",
    "display=False\n",
    "whether_index=True\n",
    "\n",
    "\n",
    "def volatility(vol_types,whether_index,stock_code, start_date, end_date,rolling_window=20,display=True):\n",
    "    #对数据进行扩展\n",
    "    new_start_date=expand_date(start_date, rolling_window)\n",
    "    #获取数据\n",
    "    stock_prices=get_prices(whether_index,stock_code,new_start_date,end_date, rolling_window)\n",
    "    # stock_prices.to_excel('399300 data.xlsx')\n",
    "    #获得开始日期\n",
    "    begin_index=get_begin_index(stock_prices, start_date)\n",
    "    #end_index = stock_prices['trade_date'].idxmax()\n",
    "    \n",
    "    #判断所需要的波动率类型\n",
    "    if \"close_to_close\" in vol_types:\n",
    "        stock_prices['close_to_close'] = close_to_close(stock_prices['close'],rolling_window)\n",
    "    if \"parkinson\" in vol_types:\n",
    "        stock_prices['parkinson'] = parkinson(stock_prices['high'],stock_prices['low'],rolling_window)\n",
    "    if \"garman_klass\" in vol_types:\n",
    "        stock_prices['garman_klass'] = garman_klass(stock_prices['open'],stock_prices['close'],stock_prices['high'],stock_prices['low'],rolling_window)\n",
    "    if \"roger_satchell\" in vol_types:\n",
    "        stock_prices['roger_satchell'] = roger_satchell(stock_prices['open'],stock_prices['close'],stock_prices['high'],stock_prices['low'],rolling_window) \n",
    "    if \"yang_zhang\" in vol_types:\n",
    "        stock_prices['yang_zhang'] = yang_zhang(stock_prices['open'],stock_prices['close'],stock_prices['high'],stock_prices['low'],rolling_window)         \n",
    "    if display==True:\n",
    "        display_volatilities(stock_prices.iloc[begin_index:],vol_types)    \n",
    "\n",
    "    volatility_data = stock_prices.iloc[begin_index:]\n",
    "    \n",
    "    # volatility_data.set_index('trade_date', inplace=True)\n",
    "\n",
    "    # print(volatility_data)\n",
    "    print(\"最新值如下\")\n",
    "    print(volatility_data['close_to_close'].iloc[-1])\n",
    "    # print(\"最新值的分位数如下\")\n",
    "    # print(np.count_nonzero(volatility_data['close_to_close'] <= volatility_data['close_to_close'].iloc[-1]) /volatility_data['close_to_close'].size)\n",
    "    # print(\"50%分位数如下\")\n",
    "    # print(np.nanpercentile(volatility_data['close_to_close'], 50))\n",
    "    return volatility_data\n",
    "\n",
    "\n",
    "       \n",
    "\n",
    "def expand_date(start_date, rolling_window):\n",
    "    date_time_start = datetime.datetime.strptime(start_date, '%Y%m%d')\n",
    "    new_date_time = date_time_start - datetime.timedelta(days=2 * rolling_window)\n",
    "    new_date_time = new_date_time.strftime('%Y%m%d')\n",
    "    return new_date_time\n",
    "    \n",
    "def get_prices(whether_index, stock_code,start_date,end_date, rolling_window):\n",
    "    if whether_index==True:\n",
    "        stock_prices = pro.index_daily(ts_code=stock_code, start_date=start_date, end_date=end_date)\n",
    "    elif whether_index==False:\n",
    "        stock_prices = ts.pro_bar (ts_code=stock_code, adj='qfq', start_date=start_date, end_date=end_date)\n",
    "        # stock_prices = pro.daily(ts_code=stock_code, start_date=start_date, end_date=end_date)  没有复权\n",
    "    stock_prices.sort_values(by= 'trade_date',ascending=True, inplace = True, ignore_index=True)\n",
    "    stock_prices['trade_date'] = pd.to_datetime(stock_prices['trade_date'], format=\"%Y%m%d\")\n",
    "    return stock_prices\n",
    "    \n",
    "def get_begin_index(stock_prices, start_date):\n",
    "    begin_date = pd.Timestamp(start_date)  # 目标日期，类型为 pandas.Timestamp\n",
    "    filtered_rows = stock_prices[stock_prices['trade_date'] <= begin_date]  # 筛选出日期等于或者早于目标日期的行\n",
    "    begin_index = filtered_rows['trade_date'].idxmax() #因为用户输入的日期当天可能不开盘，取离不大于它且最近的开盘日期\n",
    "    return begin_index\n",
    "\n",
    "\n",
    "def close_to_close(close_prices, rolling_window=20):\n",
    "    vol = np.sqrt(np.power(np.log(close_prices/close_prices.shift(1)), 2).rolling(window=rolling_window).mean())*np.sqrt(242)\n",
    "    # vol=np.sqrt(np.log(close_prices/close_prices.shift(1)).rolling(window=rolling_window).var(ddof=1))*np.sqrt(242)\n",
    "    return vol\n",
    "\n",
    "def parkinson(highest_prices,lowest_prices,rolling_window=20):\n",
    "    vol=np.sqrt((np.power(np.log(highest_prices/lowest_prices),2).rolling(window=rolling_window).mean())/np.log(16))*np.sqrt(242)\n",
    "    return vol\n",
    "\n",
    "def garman_klass(open_prices,close_prices, highest_prices,lowest_prices,rolling_window=20):\n",
    "    vol=np.sqrt(np.power(np.log(highest_prices/lowest_prices),2).rolling(window=rolling_window).mean()/2-\\\n",
    "                (np.log(4)-1)*np.power(np.log(close_prices/open_prices), 2).rolling(window=rolling_window).mean())*np.sqrt(242)\n",
    "    return vol\n",
    "\n",
    "def roger_satchell(open_prices,close_prices, highest_prices,lowest_prices,rolling_window=20):\n",
    "    vol=np.sqrt((np.log(highest_prices/close_prices)*np.log(highest_prices/open_prices)).rolling(window=rolling_window).mean()+\\\n",
    "                (np.log(lowest_prices/close_prices)*np.log(lowest_prices/open_prices)).rolling(window=rolling_window).mean())*np.sqrt(242)\n",
    "    return vol\n",
    "\n",
    "def yang_zhang(open_prices,close_prices, highest_prices,lowest_prices,rolling_window=20):\n",
    "    k=(1.34-1)/(1.34+(rolling_window+1)/(rolling_window-1))\n",
    "    vrs=(np.log(highest_prices/close_prices)*np.log(highest_prices/open_prices)).rolling(window=rolling_window).mean()+\\\n",
    "                (np.log(lowest_prices/close_prices)*np.log(lowest_prices/open_prices)).rolling(window=rolling_window).mean()\n",
    "    v0 = np.power(np.log(open_prices/close_prices.shift(1)), 2).rolling(window=rolling_window).mean()\n",
    "    vc = np.power(np.log(close_prices/open_prices), 2).rolling(window=rolling_window).mean()\n",
    "    # v0= np.log(open_prices/close_prices.shift(1)).rolling(window=rolling_window).var(ddof=1)\n",
    "    # vc=(np.log(close_prices/open_prices)).rolling(window=rolling_window).var(ddof=1)\n",
    "    vol=(np.sqrt(v0+k*vc+(1-k)*vrs)*np.sqrt(242))\n",
    "    \n",
    "    return vol\n",
    "\n",
    "def display_volatilities(stock_prices,vol_types):\n",
    "    stock_price_recent=stock_prices[-30:]\n",
    "    stock_price_recent.set_index('trade_date', inplace=True)\n",
    "    \n",
    "    # stock_columns=stock_prices[['open','close','high','low']]\n",
    "    # stock_prices['open_minus_close']=stock_prices['open'].shift(-1)-stock_prices['close']\n",
    "    # stock_prices=stock_prices.iloc[70:105]\n",
    "    stock_columns = stock_price_recent[vol_types]\n",
    "    # stock_columns=stock_prices['open_minus_close']\n",
    "    stock_columns.plot()\n",
    "    plt.legend()\n",
    "    plt.show()\n",
    "    \n",
    "if __name__ == '__main__':\n",
    "    volatility_data= volatility(vol_types,whether_index, stock_code, start_date, end_date,rolling_window, display)\n",
    "    # volatility_data.to_excel('volatility_data.xlsx')\n",
    "    print(volatility_data)"
   ]
  },
  {
   "cell_type": "code",
   "execution_count": 11,
   "id": "b5ec0be7-c702-4516-b007-6929f4ae2803",
   "metadata": {
    "ExecuteTime": {
     "end_time": "2023-10-23T09:14:14.580205500Z",
     "start_time": "2023-10-23T09:14:14.463517600Z"
    }
   },
   "outputs": [],
   "source": []
  },
  {
   "cell_type": "code",
   "id": "0f5a2f3c-6526-4885-9e4d-8fabda5a949a",
   "metadata": {
    "ExecuteTime": {
     "end_time": "2024-04-24T11:42:02.339288Z",
     "start_time": "2024-04-24T11:42:02.334866Z"
    }
   },
   "source": [
    "import numpy as np\n",
    "\n",
    "np.arange(0, 10+1, 1)"
   ],
   "outputs": [
    {
     "data": {
      "text/plain": [
       "array([ 0,  1,  2,  3,  4,  5,  6,  7,  8,  9, 10])"
      ]
     },
     "execution_count": 2,
     "metadata": {},
     "output_type": "execute_result"
    }
   ],
   "execution_count": 2
  },
  {
   "metadata": {
    "ExecuteTime": {
     "end_time": "2024-04-24T11:47:31.883260Z",
     "start_time": "2024-04-24T11:47:31.878774Z"
    }
   },
   "cell_type": "code",
   "source": [
    "a = [1, 4, 3, 5]\n",
    "b=[1, 2,3,4, 5]\n",
    "np.union1d(a, b)"
   ],
   "id": "40493cdcc52bcb0d",
   "outputs": [
    {
     "data": {
      "text/plain": [
       "array([1, 2, 3, 4, 5])"
      ]
     },
     "execution_count": 5,
     "metadata": {},
     "output_type": "execute_result"
    }
   ],
   "execution_count": 5
  },
  {
   "metadata": {},
   "cell_type": "code",
   "outputs": [],
   "execution_count": null,
   "source": "",
   "id": "1a46d773baff1ade"
  }
 ],
 "metadata": {
  "kernelspec": {
   "display_name": "Python 3 (ipykernel)",
   "language": "python",
   "name": "python3"
  },
  "language_info": {
   "codemirror_mode": {
    "name": "ipython",
    "version": 3
   },
   "file_extension": ".py",
   "mimetype": "text/x-python",
   "name": "python",
   "nbconvert_exporter": "python",
   "pygments_lexer": "ipython3",
   "version": "3.9.0"
  }
 },
 "nbformat": 4,
 "nbformat_minor": 5
}
